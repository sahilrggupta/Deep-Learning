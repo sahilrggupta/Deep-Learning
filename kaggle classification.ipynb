{
 "cells": [
  {
   "cell_type": "code",
   "execution_count": null,
   "metadata": {
    "collapsed": false
   },
   "outputs": [],
   "source": [
    "import pandas as pd\n",
    "import numpy as np\n",
    "import tensorflow as tf\n",
    "import keras\n",
    "from keras.layers import Convolution2D, MaxPooling2D, Activation, Dropout, Dense, Flatten\n",
    "from keras.models import Sequential\n",
    "from keras.utils.np_utils import to_categorical\n",
    "from keras.callbacks import EarlyStopping"
   ]
  },
  {
   "cell_type": "code",
   "execution_count": null,
   "metadata": {
    "collapsed": false
   },
   "outputs": [],
   "source": [
    "train = pd.read_csv(r\"/home/sahil/Downloads/train.csv\").values\n",
    "test  = pd.read_csv(\"/home/sahil/Downloads/test.csv\").values\n",
    "\n",
    "X_train= train[:,1:].reshape(train.shape[0],28,28,1)\n",
    "X_train= X_train.astype(float)\n",
    "X_train/=255.0\n",
    "\n",
    "Y_train= to_categorical(train[:,0])\n",
    "nb_classes = Y_train.shape[1]\n",
    "\n",
    "X_test= test.reshape(test.shape[0],28,28,1)\n",
    "\n",
    "\n"
   ]
  },
  {
   "cell_type": "code",
   "execution_count": null,
   "metadata": {
    "collapsed": false
   },
   "outputs": [],
   "source": [
    "classifier= Sequential()\n",
    "classifier.add(Convolution2D(64,3,3, border_mode='same', input_shape=(28,28,1), activation='relu'))\n",
    "classifier.add(Convolution2D(64,3,3, border_mode='same', activation='relu'))\n",
    "classifier.add(MaxPooling2D((2,2)))\n",
    "classifier.add(Dropout(0.25))\n",
    "\n",
    "classifier.add(Convolution2D(128,3,3, border_mode='same', activation='relu'))\n",
    "classifier.add(Convolution2D(128,3,3, border_mode='same', activation='relu'))\n",
    "classifier.add(MaxPooling2D((2,2)))\n",
    "classifier.add(Dropout(0.25))\n",
    "\n",
    "classifier.add(Convolution2D(256,3,3, border_mode='same', activation='relu'))\n",
    "classifier.add(Convolution2D(256,3,3, border_mode='same', activation='relu'))\n",
    "classifier.add(MaxPooling2D((2,2)))\n",
    "classifier.add(Dropout(0.25))\n",
    "\n",
    "classifier.add(Flatten())\n",
    "\n",
    "classifier.add(Dense(512, activation='relu'))\n",
    "classifier.add(Dropout(0.5))\n",
    "\n",
    "classifier.add(Dense(nb_classes, activation='softmax'))\n",
    "classifier.summary()"
   ]
  },
  {
   "cell_type": "code",
   "execution_count": null,
   "metadata": {
    "collapsed": false
   },
   "outputs": [],
   "source": [
    "classifier.compile(loss=\"categorical_crossentropy\", optimizer=\"adam\", metrics=[\"accuracy\"])\n",
    "early_stopping= EarlyStopping(monitor='val_loss', min_delta=0, patience=0, verbose=1, mode='auto')\n",
    "classifier.fit(X_train, Y_train, batch_size=128, nb_epoch=20, callbacks=[early_stopping], validation_split=0.1, verbose=1)"
   ]
  },
  {
   "cell_type": "code",
   "execution_count": null,
   "metadata": {
    "collapsed": false
   },
   "outputs": [],
   "source": [
    "X_test.astype(float)\n",
    "X_test/=255\n",
    "yPred = classifier.predict_classes(X_test)\n",
    "np.savetxt('mnist-vggnet.csv', np.c_[range(1,len(yPred)+1),yPred], delimiter=',', header = 'ImageId,Label', comments = '', fmt='%d')\n",
    "\n",
    "\n",
    "\n",
    "\n"
   ]
  },
  {
   "cell_type": "code",
   "execution_count": null,
   "metadata": {
    "collapsed": true
   },
   "outputs": [],
   "source": []
  }
 ],
 "metadata": {
  "kernelspec": {
   "display_name": "Python 2",
   "language": "python",
   "name": "python2"
  },
  "language_info": {
   "codemirror_mode": {
    "name": "ipython",
    "version": 2
   },
   "file_extension": ".py",
   "mimetype": "text/x-python",
   "name": "python",
   "nbconvert_exporter": "python",
   "pygments_lexer": "ipython2",
   "version": "2.7.11"
  }
 },
 "nbformat": 4,
 "nbformat_minor": 0
}
