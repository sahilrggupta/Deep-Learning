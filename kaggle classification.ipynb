{
 "cells": [
  {
   "cell_type": "code",
   "execution_count": 42,
   "metadata": {
    "collapsed": false
   },
   "outputs": [],
   "source": [
    "import pandas as pd\n",
    "import numpy as np\n",
    "import tensorflow as tf\n",
    "import keras\n",
    "from keras.layers import Convolution2D, MaxPooling2D, Activation, Dropout, Dense, Flatten\n",
    "from keras.models import Sequential\n",
    "from keras.utils.np_utils import to_categorical\n",
    "from keras.callbacks import EarlyStopping"
   ]
  },
  {
   "cell_type": "code",
   "execution_count": 43,
   "metadata": {
    "collapsed": false
   },
   "outputs": [],
   "source": [
    "train = pd.read_csv(r\"/home/sahil/Downloads/train.csv\").values\n",
    "test  = pd.read_csv(\"/home/sahil/Downloads/test.csv\").values\n",
    "\n",
    "X_train= train[:,1:].reshape(train.shape[0],28,28,1)\n",
    "X_train= X_train.astype(float)\n",
    "X_train/=255.0\n",
    "\n",
    "Y_train= to_categorical(train[:,0])\n",
    "nb_classes = Y_train.shape[1]\n",
    "\n",
    "X_test= test.reshape(test.shape[0],28,28,1)\n",
    "\n",
    "\n"
   ]
  },
  {
   "cell_type": "code",
   "execution_count": 44,
   "metadata": {
    "collapsed": false
   },
   "outputs": [
    {
     "name": "stdout",
     "output_type": "stream",
     "text": [
      "____________________________________________________________________________________________________\n",
      "Layer (type)                     Output Shape          Param #     Connected to                     \n",
      "====================================================================================================\n",
      "convolution2d_68 (Convolution2D) (None, 28, 28, 64)    640         convolution2d_input_17[0][0]     \n",
      "____________________________________________________________________________________________________\n",
      "convolution2d_69 (Convolution2D) (None, 28, 28, 64)    36928       convolution2d_68[0][0]           \n",
      "____________________________________________________________________________________________________\n",
      "maxpooling2d_33 (MaxPooling2D)   (None, 14, 14, 64)    0           convolution2d_69[0][0]           \n",
      "____________________________________________________________________________________________________\n",
      "dropout_22 (Dropout)             (None, 14, 14, 64)    0           maxpooling2d_33[0][0]            \n",
      "____________________________________________________________________________________________________\n",
      "convolution2d_70 (Convolution2D) (None, 14, 14, 128)   73856       dropout_22[0][0]                 \n",
      "____________________________________________________________________________________________________\n",
      "convolution2d_71 (Convolution2D) (None, 14, 14, 128)   147584      convolution2d_70[0][0]           \n",
      "____________________________________________________________________________________________________\n",
      "maxpooling2d_34 (MaxPooling2D)   (None, 7, 7, 128)     0           convolution2d_71[0][0]           \n",
      "____________________________________________________________________________________________________\n",
      "dropout_23 (Dropout)             (None, 7, 7, 128)     0           maxpooling2d_34[0][0]            \n",
      "____________________________________________________________________________________________________\n",
      "convolution2d_72 (Convolution2D) (None, 7, 7, 256)     295168      dropout_23[0][0]                 \n",
      "____________________________________________________________________________________________________\n",
      "convolution2d_73 (Convolution2D) (None, 7, 7, 256)     590080      convolution2d_72[0][0]           \n",
      "____________________________________________________________________________________________________\n",
      "maxpooling2d_35 (MaxPooling2D)   (None, 3, 3, 256)     0           convolution2d_73[0][0]           \n",
      "____________________________________________________________________________________________________\n",
      "dropout_24 (Dropout)             (None, 3, 3, 256)     0           maxpooling2d_35[0][0]            \n",
      "____________________________________________________________________________________________________\n",
      "flatten_14 (Flatten)             (None, 2304)          0           dropout_24[0][0]                 \n",
      "____________________________________________________________________________________________________\n",
      "dense_22 (Dense)                 (None, 512)           1180160     flatten_14[0][0]                 \n",
      "____________________________________________________________________________________________________\n",
      "dropout_25 (Dropout)             (None, 512)           0           dense_22[0][0]                   \n",
      "____________________________________________________________________________________________________\n",
      "dense_23 (Dense)                 (None, 10)            5130        dropout_25[0][0]                 \n",
      "====================================================================================================\n",
      "Total params: 2,329,546\n",
      "Trainable params: 2,329,546\n",
      "Non-trainable params: 0\n",
      "____________________________________________________________________________________________________\n"
     ]
    }
   ],
   "source": [
    "classifier= Sequential()\n",
    "classifier.add(Convolution2D(64,3,3, border_mode='same', input_shape=(28,28,1), activation='relu'))\n",
    "classifier.add(Convolution2D(64,3,3, border_mode='same', activation='relu'))\n",
    "classifier.add(MaxPooling2D((2,2)))\n",
    "classifier.add(Dropout(0.25))\n",
    "\n",
    "classifier.add(Convolution2D(128,3,3, border_mode='same', activation='relu'))\n",
    "classifier.add(Convolution2D(128,3,3, border_mode='same', activation='relu'))\n",
    "classifier.add(MaxPooling2D((2,2)))\n",
    "classifier.add(Dropout(0.25))\n",
    "\n",
    "classifier.add(Convolution2D(256,3,3, border_mode='same', activation='relu'))\n",
    "classifier.add(Convolution2D(256,3,3, border_mode='same', activation='relu'))\n",
    "classifier.add(MaxPooling2D((2,2)))\n",
    "classifier.add(Dropout(0.25))\n",
    "\n",
    "classifier.add(Flatten())\n",
    "\n",
    "classifier.add(Dense(512, activation='relu'))\n",
    "classifier.add(Dropout(0.5))\n",
    "\n",
    "classifier.add(Dense(nb_classes, activation='softmax'))\n",
    "classifier.summary()"
   ]
  },
  {
   "cell_type": "code",
   "execution_count": 48,
   "metadata": {
    "collapsed": false
   },
   "outputs": [
    {
     "name": "stdout",
     "output_type": "stream",
     "text": [
      "Train on 37800 samples, validate on 4200 samples\n",
      "Epoch 1/20\n",
      "37800/37800 [==============================] - 1156s - loss: 0.4905 - acc: 0.8444 - val_loss: 0.0798 - val_acc: 0.9724\n",
      "Epoch 2/20\n",
      "37800/37800 [==============================] - 1207s - loss: 0.1250 - acc: 0.9630 - val_loss: 0.0567 - val_acc: 0.9798\n",
      "Epoch 3/20\n",
      "37800/37800 [==============================] - 1385s - loss: 0.0921 - acc: 0.9729 - val_loss: 0.0483 - val_acc: 0.9843\n",
      "Epoch 4/20\n",
      "37800/37800 [==============================] - 1044s - loss: 0.0748 - acc: 0.9785 - val_loss: 0.0319 - val_acc: 0.9888\n",
      "Epoch 5/20\n",
      "37800/37800 [==============================] - 993s - loss: 0.0710 - acc: 0.9797 - val_loss: 0.0340 - val_acc: 0.9890\n",
      "Epoch 00004: early stopping\n"
     ]
    },
    {
     "data": {
      "text/plain": [
       "<keras.callbacks.History at 0x7f79f427d810>"
      ]
     },
     "execution_count": 48,
     "metadata": {},
     "output_type": "execute_result"
    }
   ],
   "source": [
    "classifier.compile(loss=\"categorical_crossentropy\", optimizer=\"adam\", metrics=[\"accuracy\"])\n",
    "early_stopping= EarlyStopping(monitor='val_loss', min_delta=0, patience=0, verbose=1, mode='auto')\n",
    "classifier.fit(X_train, Y_train, batch_size=128, nb_epoch=20, callbacks=[early_stopping], validation_split=0.1, verbose=1)"
   ]
  },
  {
   "cell_type": "code",
   "execution_count": 50,
   "metadata": {
    "collapsed": false
   },
   "outputs": [
    {
     "name": "stdout",
     "output_type": "stream",
     "text": [
      "28000/28000 [==============================] - 325s   \n"
     ]
    }
   ],
   "source": [
    "X_test.astype(float)\n",
    "X_test/=255\n",
    "yPred = classifier.predict_classes(X_test)\n",
    "np.savetxt('mnist-vggnet.csv', np.c_[range(1,len(yPred)+1),yPred], delimiter=',', header = 'ImageId,Label', comments = '', fmt='%d')\n",
    "\n",
    "\n",
    "\n",
    "\n"
   ]
  },
  {
   "cell_type": "code",
   "execution_count": null,
   "metadata": {
    "collapsed": true
   },
   "outputs": [],
   "source": []
  }
 ],
 "metadata": {
  "kernelspec": {
   "display_name": "Python 2",
   "language": "python",
   "name": "python2"
  },
  "language_info": {
   "codemirror_mode": {
    "name": "ipython",
    "version": 2
   },
   "file_extension": ".py",
   "mimetype": "text/x-python",
   "name": "python",
   "nbconvert_exporter": "python",
   "pygments_lexer": "ipython2",
   "version": "2.7.11"
  }
 },
 "nbformat": 4,
 "nbformat_minor": 0
}
